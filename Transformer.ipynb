{
  "nbformat": 4,
  "nbformat_minor": 0,
  "metadata": {
    "colab": {
      "name": "Transformer.ipynb",
      "version": "0.3.2",
      "provenance": [],
      "include_colab_link": true
    },
    "kernelspec": {
      "name": "python3",
      "display_name": "Python 3"
    }
  },
  "cells": [
    {
      "cell_type": "markdown",
      "metadata": {
        "id": "view-in-github",
        "colab_type": "text"
      },
      "source": [
        "<a href=\"https://colab.research.google.com/github/SunnyYasser/2018-cs109b/blob/master/Transformer.ipynb\" target=\"_parent\"><img src=\"https://colab.research.google.com/assets/colab-badge.svg\" alt=\"Open In Colab\"/></a>"
      ]
    },
    {
      "cell_type": "code",
      "metadata": {
        "id": "oE5rKbpUYh_c",
        "colab_type": "code",
        "colab": {}
      },
      "source": [
        "import numpy as mp\n",
        "import torch\n",
        "import torch.nn as nn\n",
        "import torch.nn.functional as F\n",
        "import math,copy,time\n",
        "from torch.autograd import Variable\n",
        "import matplotlib.pyplot as plt\n",
        "import seaborn\n"
      ],
      "execution_count": 0,
      "outputs": []
    },
    {
      "cell_type": "code",
      "metadata": {
        "id": "F33BaFaMY48O",
        "colab_type": "code",
        "colab": {}
      },
      "source": [
        "seaborn.set_context('talk')\n",
        "%matplotlib inline"
      ],
      "execution_count": 0,
      "outputs": []
    },
    {
      "cell_type": "code",
      "metadata": {
        "id": "Bcjqj2n5ZEL4",
        "colab_type": "code",
        "colab": {}
      },
      "source": [
        "class EncoderDecoder(nn.Module):\n",
        "  \n",
        "  \"\"\"A standard encoder-decoder architecture\"\"\"\n",
        "  \n",
        "  def __init__(self,encoder,decoder,src_embed,tgt_embed,generator):\n",
        "    super(EncoderDecoder,self).__init__()\n",
        "    self.encoder = encoder\n",
        "    self.decoder = decoder\n",
        "    self.src_embed = src_embed\n",
        "    self.tgt_embed = tgt_embed\n",
        "    self.generator = generator\n",
        "    \n",
        "  \n",
        "  def forward(self,src,tgt,src_mask,tgt_mask):\n",
        "    return self.decode(self.encode(src,src_mask),src_mask,tgt,tgt_mask) #check for order of tgt and src_mask\n",
        "  \n",
        "  def encode(self,src,src_mask):\n",
        "    return self.encoder(self.src_embed(src),src_mask)\n",
        "  \n",
        "  def decode(self,memory,src_mask,tgt,tgt_mask):\n",
        "    return self.decoder(self.tgt_embed(tgt),memory,src_mask,tgt_mask)"
      ],
      "execution_count": 0,
      "outputs": []
    },
    {
      "cell_type": "code",
      "metadata": {
        "id": "kjfPgBiQaA9S",
        "colab_type": "code",
        "colab": {}
      },
      "source": [
        "class Generator(nn.Module):\n",
        "  \"Standard Linear + softmax generator step\"\n",
        "  \n",
        "  def __init__(self,d_model,vocab):\n",
        "    super(Generator,self).__init__()\n",
        "    self.proj = nn.Linear(d_model,vocab)\n",
        "   \n",
        "  def forward(self,x):\n",
        "    return F.log_softmax(self.proj(x),dim=-1)\n",
        "    \n",
        "  "
      ],
      "execution_count": 0,
      "outputs": []
    },
    {
      "cell_type": "code",
      "metadata": {
        "id": "Jrsyi1hPctCc",
        "colab_type": "code",
        "colab": {}
      },
      "source": [
        "def clone(module,N):\n",
        "  \"produce N identical layers\"\n",
        "  return nn.ModuleList([copy.deepcopy(module) for _ in range(N)])"
      ],
      "execution_count": 0,
      "outputs": []
    },
    {
      "cell_type": "code",
      "metadata": {
        "id": "Qo2IEYzLgu0N",
        "colab_type": "code",
        "colab": {}
      },
      "source": [
        "class Encoder(nn.Module):\n",
        "  \"stack of N layers\"\n",
        "  def __init__(self,layer,N):\n",
        "    super(Encoder,self).__init__()\n",
        "    self.layers = clones(layer,N)\n",
        "    self.norm = LayerNorm(layer.size)\n",
        "    \n",
        "   \n",
        "  def forward(self,x,mask):\n",
        "    for layer in layers:\n",
        "      x = layer(x,mask)\n",
        "     \n",
        "    return slef.norm(x)"
      ],
      "execution_count": 0,
      "outputs": []
    },
    {
      "cell_type": "code",
      "metadata": {
        "id": "viW--NIGmEdK",
        "colab_type": "code",
        "colab": {}
      },
      "source": [
        "class LayerNorm(nn.Module):\n",
        "  def __init_(self,features,eps=1e-6):\n",
        "    super(LayerNorm,self).__init__()\n",
        "    self.a_2 = nn.Parameter(torch.ones(features))\n",
        "    self.b_2 = nn.Parameter(torch.zeros(features))\n",
        "    self.eps = eps\n",
        "   \n",
        "  def forward(self,x):\n",
        "    mean = x.mean(-1,keepdims=True)\n",
        "    std = x.std(-1,keepdims = True)\n",
        "    return self.a2 *(x-mean)/(std + self.eps) + self.b_2"
      ],
      "execution_count": 0,
      "outputs": []
    },
    {
      "cell_type": "code",
      "metadata": {
        "id": "AX-cCV8nqg4U",
        "colab_type": "code",
        "colab": {}
      },
      "source": [
        ""
      ],
      "execution_count": 0,
      "outputs": []
    }
  ]
}